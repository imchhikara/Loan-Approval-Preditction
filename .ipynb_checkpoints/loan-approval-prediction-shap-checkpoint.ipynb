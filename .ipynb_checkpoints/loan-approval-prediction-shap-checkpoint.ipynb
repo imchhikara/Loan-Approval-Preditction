{
 "cells": [
  {
   "cell_type": "markdown",
   "metadata": {},
   "source": [
    "# **Importing Libraries**"
   ]
  },
  {
   "cell_type": "code",
   "execution_count": null,
   "metadata": {
    "execution": {
     "iopub.execute_input": "2022-10-11T22:45:23.432523Z",
     "iopub.status.busy": "2022-10-11T22:45:23.432088Z",
     "iopub.status.idle": "2022-10-11T22:45:23.442067Z",
     "shell.execute_reply": "2022-10-11T22:45:23.440536Z",
     "shell.execute_reply.started": "2022-10-11T22:45:23.432490Z"
    }
   },
   "outputs": [],
   "source": [
    "#Importing Libraries\n",
    "import pandas as pd\n",
    "import numpy as np\n",
    "import matplotlib.pyplot as plt\n",
    "import seaborn as sns\n",
    "from sklearn import preprocessing\n",
    "from sklearn.model_selection import train_test_split\n",
    "from sklearn.neighbors import KNeighborsClassifier\n",
    "from sklearn.ensemble import RandomForestClassifier\n",
    "from sklearn.svm import SVC\n",
    "from sklearn.linear_model import LogisticRegression\n",
    "from sklearn import metrics\n",
    "import eli5\n",
    "from pdpbox import pdp, get_dataset, info_plots\n",
    "import shap\n",
    "from sklearn.model_selection import cross_val_score\n",
    "from sklearn.pipeline import Pipeline\n",
    "from sklearn.impute import SimpleImputer"
   ]
  },
  {
   "cell_type": "markdown",
   "metadata": {},
   "source": [
    "# **Read and Loading the Dataset**"
   ]
  },
  {
   "cell_type": "code",
   "execution_count": null,
   "metadata": {
    "execution": {
     "iopub.execute_input": "2022-10-11T21:59:29.134626Z",
     "iopub.status.busy": "2022-10-11T21:59:29.133915Z",
     "iopub.status.idle": "2022-10-11T21:59:29.156720Z",
     "shell.execute_reply": "2022-10-11T21:59:29.155890Z",
     "shell.execute_reply.started": "2022-10-11T21:59:29.134590Z"
    }
   },
   "outputs": [],
   "source": [
    "#Loading the Data\n",
    "df=pd.read_csv(\"Training Dataset.csv\")"
   ]
  },
  {
   "cell_type": "markdown",
   "metadata": {},
   "source": [
    "# **Exploratory Data Analysis**"
   ]
  },
  {
   "cell_type": "code",
   "execution_count": null,
   "metadata": {
    "execution": {
     "iopub.execute_input": "2022-10-11T21:59:29.159070Z",
     "iopub.status.busy": "2022-10-11T21:59:29.158189Z",
     "iopub.status.idle": "2022-10-11T21:59:29.184060Z",
     "shell.execute_reply": "2022-10-11T21:59:29.182769Z",
     "shell.execute_reply.started": "2022-10-11T21:59:29.159030Z"
    }
   },
   "outputs": [],
   "source": [
    "#Exploring the data\n",
    "#Checking the top 5 rows of data\n",
    "df.head()"
   ]
  },
  {
   "cell_type": "code",
   "execution_count": null,
   "metadata": {
    "execution": {
     "iopub.execute_input": "2022-10-11T21:59:29.188271Z",
     "iopub.status.busy": "2022-10-11T21:59:29.187392Z",
     "iopub.status.idle": "2022-10-11T21:59:29.214743Z",
     "shell.execute_reply": "2022-10-11T21:59:29.213643Z",
     "shell.execute_reply.started": "2022-10-11T21:59:29.188222Z"
    }
   },
   "outputs": [],
   "source": [
    "#Checking the size of Dataset\n",
    "df.info()"
   ]
  },
  {
   "cell_type": "code",
   "execution_count": null,
   "metadata": {
    "execution": {
     "iopub.execute_input": "2022-10-11T21:59:29.217523Z",
     "iopub.status.busy": "2022-10-11T21:59:29.217036Z",
     "iopub.status.idle": "2022-10-11T21:59:29.227684Z",
     "shell.execute_reply": "2022-10-11T21:59:29.226507Z",
     "shell.execute_reply.started": "2022-10-11T21:59:29.217478Z"
    }
   },
   "outputs": [],
   "source": [
    "#Checking the null values in the columns.\n",
    "df.isnull().sum()"
   ]
  },
  {
   "cell_type": "code",
   "execution_count": null,
   "metadata": {
    "execution": {
     "iopub.execute_input": "2022-10-11T21:59:29.229427Z",
     "iopub.status.busy": "2022-10-11T21:59:29.229109Z",
     "iopub.status.idle": "2022-10-11T21:59:29.251366Z",
     "shell.execute_reply": "2022-10-11T21:59:29.250125Z",
     "shell.execute_reply.started": "2022-10-11T21:59:29.229398Z"
    }
   },
   "outputs": [],
   "source": [
    "#Dropping null values\n",
    "data =df.dropna()\n",
    "data.shape"
   ]
  },
  {
   "cell_type": "markdown",
   "metadata": {},
   "source": [
    "# **Data PreProcessing And Visualization**"
   ]
  },
  {
   "cell_type": "code",
   "execution_count": null,
   "metadata": {
    "execution": {
     "iopub.execute_input": "2022-10-11T21:59:29.253181Z",
     "iopub.status.busy": "2022-10-11T21:59:29.252835Z",
     "iopub.status.idle": "2022-10-11T21:59:29.263391Z",
     "shell.execute_reply": "2022-10-11T21:59:29.262270Z",
     "shell.execute_reply.started": "2022-10-11T21:59:29.253150Z"
    }
   },
   "outputs": [],
   "source": [
    "#Setting Object Data Types\n",
    "obj = (data.dtypes == 'object')"
   ]
  },
  {
   "cell_type": "code",
   "execution_count": null,
   "metadata": {
    "execution": {
     "iopub.execute_input": "2022-10-11T21:59:29.265801Z",
     "iopub.status.busy": "2022-10-11T21:59:29.264766Z",
     "iopub.status.idle": "2022-10-11T21:59:29.279016Z",
     "shell.execute_reply": "2022-10-11T21:59:29.277757Z",
     "shell.execute_reply.started": "2022-10-11T21:59:29.265756Z"
    }
   },
   "outputs": [],
   "source": [
    "#Dropping 'Loan_ID' column as it have unique values and are not related with any other column.\n",
    "data.drop(['Loan_ID'], axis=1, inplace=True)"
   ]
  },
  {
   "cell_type": "markdown",
   "metadata": {},
   "source": [
    "Converting categorical values to numerical value."
   ]
  },
  {
   "cell_type": "code",
   "execution_count": null,
   "metadata": {
    "execution": {
     "iopub.execute_input": "2022-10-11T21:59:29.281012Z",
     "iopub.status.busy": "2022-10-11T21:59:29.280642Z",
     "iopub.status.idle": "2022-10-11T21:59:29.294519Z",
     "shell.execute_reply": "2022-10-11T21:59:29.293689Z",
     "shell.execute_reply.started": "2022-10-11T21:59:29.280979Z"
    }
   },
   "outputs": [],
   "source": [
    "#Label_encoder\n",
    "label_encoder = preprocessing.LabelEncoder()\n",
    "obj = (data.dtypes == 'object')\n",
    "for col in list(obj[obj].index):\n",
    "    data[col] = label_encoder.fit_transform(data[col])"
   ]
  },
  {
   "cell_type": "code",
   "execution_count": null,
   "metadata": {
    "execution": {
     "iopub.execute_input": "2022-10-11T21:59:29.296772Z",
     "iopub.status.busy": "2022-10-11T21:59:29.295780Z",
     "iopub.status.idle": "2022-10-11T21:59:29.310030Z",
     "shell.execute_reply": "2022-10-11T21:59:29.308696Z",
     "shell.execute_reply.started": "2022-10-11T21:59:29.296736Z"
    }
   },
   "outputs": [],
   "source": [
    "#Checking the Data Columns\n",
    "obj = (df.dtypes == 'object')\n",
    "print(\"Categorical Variables:\", len(list(obj[obj].index)))"
   ]
  },
  {
   "cell_type": "code",
   "execution_count": null,
   "metadata": {},
   "outputs": [],
   "source": []
  },
  {
   "cell_type": "markdown",
   "metadata": {},
   "source": [
    "# **Data Visualisation**"
   ]
  },
  {
   "cell_type": "code",
   "execution_count": null,
   "metadata": {
    "execution": {
     "iopub.execute_input": "2022-10-11T21:59:29.313719Z",
     "iopub.status.busy": "2022-10-11T21:59:29.313370Z",
     "iopub.status.idle": "2022-10-11T21:59:29.735335Z",
     "shell.execute_reply": "2022-10-11T21:59:29.734020Z",
     "shell.execute_reply.started": "2022-10-11T21:59:29.313686Z"
    }
   },
   "outputs": [],
   "source": [
    "plt.figure(figsize=(16,8))\n",
    "sns.heatmap(df.corr(), cmap='BrBG', fmt='.2f', linewidth=2, annot=True)"
   ]
  },
  {
   "cell_type": "code",
   "execution_count": null,
   "metadata": {
    "execution": {
     "iopub.execute_input": "2022-10-11T21:59:29.737173Z",
     "iopub.status.busy": "2022-10-11T21:59:29.736837Z",
     "iopub.status.idle": "2022-10-11T21:59:30.207419Z",
     "shell.execute_reply": "2022-10-11T21:59:30.206175Z",
     "shell.execute_reply.started": "2022-10-11T21:59:29.737143Z"
    }
   },
   "outputs": [],
   "source": [
    "sns.catplot(x='Gender', y='Married', hue='Loan_Status', kind='bar', data=data)"
   ]
  },
  {
   "cell_type": "markdown",
   "metadata": {},
   "source": [
    "There are missing values. But we will try to proceed further to see how the model works."
   ]
  },
  {
   "cell_type": "markdown",
   "metadata": {},
   "source": [
    "# **Splitting the DataSet**"
   ]
  },
  {
   "cell_type": "code",
   "execution_count": null,
   "metadata": {
    "execution": {
     "iopub.execute_input": "2022-10-11T21:59:30.209547Z",
     "iopub.status.busy": "2022-10-11T21:59:30.209222Z",
     "iopub.status.idle": "2022-10-11T21:59:30.218852Z",
     "shell.execute_reply": "2022-10-11T21:59:30.217312Z",
     "shell.execute_reply.started": "2022-10-11T21:59:30.209516Z"
    }
   },
   "outputs": [],
   "source": [
    "X = data.drop(['Loan_Status'], axis=1)\n",
    "Y = data['Loan_Status']\n",
    "X.shape, Y.shape"
   ]
  },
  {
   "cell_type": "code",
   "execution_count": null,
   "metadata": {
    "execution": {
     "iopub.execute_input": "2022-10-11T21:59:30.220532Z",
     "iopub.status.busy": "2022-10-11T21:59:30.220227Z",
     "iopub.status.idle": "2022-10-11T21:59:30.233575Z",
     "shell.execute_reply": "2022-10-11T21:59:30.232184Z",
     "shell.execute_reply.started": "2022-10-11T21:59:30.220505Z"
    }
   },
   "outputs": [],
   "source": [
    "X_train, X_test, Y_train, Y_test = train_test_split(X, Y, test_size=0.2, random_state=1)\n",
    "X_train.shape, X_test.shape, Y_train.shape, Y_test.shape"
   ]
  },
  {
   "cell_type": "markdown",
   "metadata": {},
   "source": [
    "# **Model Training & Evaluation**"
   ]
  },
  {
   "cell_type": "markdown",
   "metadata": {},
   "source": [
    "We will use 4 Models for this problem.\n",
    "1. KNeighbors Classifiers\n",
    "2. Random Forest Classifiers\n",
    "3. SupportVector Classifiers (SVC)\n",
    "4. Logistics Regression"
   ]
  },
  {
   "cell_type": "code",
   "execution_count": null,
   "metadata": {
    "execution": {
     "iopub.execute_input": "2022-10-11T21:59:30.235797Z",
     "iopub.status.busy": "2022-10-11T21:59:30.235114Z",
     "iopub.status.idle": "2022-10-11T21:59:30.331170Z",
     "shell.execute_reply": "2022-10-11T21:59:30.329846Z",
     "shell.execute_reply.started": "2022-10-11T21:59:30.235751Z"
    }
   },
   "outputs": [],
   "source": [
    "knnc = KNeighborsClassifier(n_neighbors = 3)\n",
    "rfc = RandomForestClassifier(n_estimators = 7, criterion = 'entropy', random_state=7)\n",
    "svc = SVC()\n",
    "lrc = LogisticRegression()\n",
    "\n",
    "for c in (rfc, knnc, svc, lrc):\n",
    "    c.fit(X_train, Y_train)\n",
    "    Y_pred = c.predict(X_train)\n",
    "    print(\"Accuracy of \", c.__class__.__name__, '=', 100*metrics.accuracy_score(Y_train, Y_pred))"
   ]
  },
  {
   "cell_type": "markdown",
   "metadata": {},
   "source": [
    "**Cross - Validation**"
   ]
  },
  {
   "cell_type": "code",
   "execution_count": null,
   "metadata": {
    "execution": {
     "iopub.execute_input": "2022-10-11T22:48:55.093611Z",
     "iopub.status.busy": "2022-10-11T22:48:55.092612Z",
     "iopub.status.idle": "2022-10-11T22:48:56.074680Z",
     "shell.execute_reply": "2022-10-11T22:48:56.073491Z",
     "shell.execute_reply.started": "2022-10-11T22:48:55.093555Z"
    }
   },
   "outputs": [],
   "source": [
    "my_pipeline = Pipeline(steps=[('preprocessor', SimpleImputer()),\n",
    "                              ('model', RandomForestClassifier(n_estimators=100,\n",
    "                                                              random_state=0))\n",
    "                             ])\n",
    "# Multiply by -1 since sklearn calculates *negative* MAE\n",
    "scores = -1 * cross_val_score(my_pipeline, X, Y,\n",
    "                              cv=5,\n",
    "                              scoring='neg_mean_absolute_error')\n",
    "print(\"MAE scores:\\n\", scores)"
   ]
  },
  {
   "cell_type": "code",
   "execution_count": null,
   "metadata": {
    "execution": {
     "iopub.execute_input": "2022-10-11T22:49:01.378954Z",
     "iopub.status.busy": "2022-10-11T22:49:01.378446Z",
     "iopub.status.idle": "2022-10-11T22:49:01.385110Z",
     "shell.execute_reply": "2022-10-11T22:49:01.384078Z",
     "shell.execute_reply.started": "2022-10-11T22:49:01.378906Z"
    }
   },
   "outputs": [],
   "source": [
    "print(\"Average MAE score (across experiments):\")\n",
    "print(scores.mean())"
   ]
  },
  {
   "cell_type": "code",
   "execution_count": null,
   "metadata": {
    "execution": {
     "iopub.execute_input": "2022-10-11T22:04:03.864446Z",
     "iopub.status.busy": "2022-10-11T22:04:03.863932Z",
     "iopub.status.idle": "2022-10-11T22:04:03.891170Z",
     "shell.execute_reply": "2022-10-11T22:04:03.889753Z",
     "shell.execute_reply.started": "2022-10-11T22:04:03.864407Z"
    }
   },
   "outputs": [],
   "source": [
    "my_model = RandomForestClassifier(n_estimators=7,\n",
    "                                  random_state=0).fit(X_train, Y_train)"
   ]
  },
  {
   "cell_type": "markdown",
   "metadata": {},
   "source": [
    "# **Explainability**"
   ]
  },
  {
   "cell_type": "code",
   "execution_count": null,
   "metadata": {
    "execution": {
     "iopub.execute_input": "2022-10-11T22:04:32.804834Z",
     "iopub.status.busy": "2022-10-11T22:04:32.804330Z",
     "iopub.status.idle": "2022-10-11T22:04:33.070348Z",
     "shell.execute_reply": "2022-10-11T22:04:33.069160Z",
     "shell.execute_reply.started": "2022-10-11T22:04:32.804775Z"
    }
   },
   "outputs": [],
   "source": [
    "#Feature Importance\n",
    "from eli5.sklearn import PermutationImportance\n",
    "perm = PermutationImportance(my_model, random_state=1).fit(X_train, Y_train)\n",
    "eli5.show_weights(perm, feature_names = X_train.columns.tolist())"
   ]
  },
  {
   "cell_type": "markdown",
   "metadata": {},
   "source": [
    "Here we can see the feature which is important for the model in predictions."
   ]
  },
  {
   "cell_type": "code",
   "execution_count": null,
   "metadata": {
    "execution": {
     "iopub.execute_input": "2022-10-11T22:24:04.293566Z",
     "iopub.status.busy": "2022-10-11T22:24:04.293189Z",
     "iopub.status.idle": "2022-10-11T22:24:04.304138Z",
     "shell.execute_reply": "2022-10-11T22:24:04.303163Z",
     "shell.execute_reply.started": "2022-10-11T22:24:04.293536Z"
    }
   },
   "outputs": [],
   "source": [
    "row_to_show = 2\n",
    "data_for_prediction = X_train.iloc[row_to_show]  # use 1 row of data here. Could use multiple rows if desired\n",
    "data_for_prediction_array = data_for_prediction.values.reshape(1, -1)\n",
    "\n",
    "\n",
    "my_model.predict_proba(data_for_prediction_array)"
   ]
  },
  {
   "cell_type": "code",
   "execution_count": null,
   "metadata": {
    "execution": {
     "iopub.execute_input": "2022-10-11T22:24:34.831911Z",
     "iopub.status.busy": "2022-10-11T22:24:34.831396Z",
     "iopub.status.idle": "2022-10-11T22:24:34.840541Z",
     "shell.execute_reply": "2022-10-11T22:24:34.839102Z",
     "shell.execute_reply.started": "2022-10-11T22:24:34.831873Z"
    }
   },
   "outputs": [],
   "source": [
    "# Create object that can calculate shap values\n",
    "explainer = shap.TreeExplainer(my_model)\n",
    "\n",
    "# Calculate Shap values\n",
    "shap_values = explainer.shap_values(data_for_prediction)"
   ]
  },
  {
   "cell_type": "code",
   "execution_count": null,
   "metadata": {
    "execution": {
     "iopub.execute_input": "2022-10-11T22:24:37.482131Z",
     "iopub.status.busy": "2022-10-11T22:24:37.481663Z",
     "iopub.status.idle": "2022-10-11T22:24:37.503266Z",
     "shell.execute_reply": "2022-10-11T22:24:37.501918Z",
     "shell.execute_reply.started": "2022-10-11T22:24:37.482099Z"
    }
   },
   "outputs": [],
   "source": [
    "shap.initjs()\n",
    "shap.force_plot(explainer.expected_value[1], shap_values[1], data_for_prediction)"
   ]
  },
  {
   "cell_type": "markdown",
   "metadata": {},
   "source": [
    "Summary Plot"
   ]
  },
  {
   "cell_type": "code",
   "execution_count": null,
   "metadata": {
    "execution": {
     "iopub.execute_input": "2022-10-11T22:28:27.751535Z",
     "iopub.status.busy": "2022-10-11T22:28:27.751169Z",
     "iopub.status.idle": "2022-10-11T22:28:28.526501Z",
     "shell.execute_reply": "2022-10-11T22:28:28.525245Z",
     "shell.execute_reply.started": "2022-10-11T22:28:27.751504Z"
    }
   },
   "outputs": [],
   "source": [
    "# Create object that can calculate shap values\n",
    "explainer = shap.TreeExplainer(my_model)\n",
    "\n",
    "# Calculate shap_values for all of val_X rather than a single row, to have more data for plot.\n",
    "shap_values = explainer.shap_values(X_train)\n",
    "\n",
    "# Make plot. Index of [1] is explained in text below.\n",
    "shap.summary_plot(shap_values[1], X_train)"
   ]
  },
  {
   "cell_type": "markdown",
   "metadata": {},
   "source": [
    "SHAP Dependence Contribution Plots"
   ]
  },
  {
   "cell_type": "code",
   "execution_count": null,
   "metadata": {
    "execution": {
     "iopub.execute_input": "2022-10-11T22:36:06.064472Z",
     "iopub.status.busy": "2022-10-11T22:36:06.063494Z",
     "iopub.status.idle": "2022-10-11T22:36:06.469082Z",
     "shell.execute_reply": "2022-10-11T22:36:06.467955Z",
     "shell.execute_reply.started": "2022-10-11T22:36:06.064426Z"
    }
   },
   "outputs": [],
   "source": [
    "# Create object that can calculate shap values\n",
    "explainer = shap.TreeExplainer(my_model)\n",
    "\n",
    "# calculate shap values. This is what we will plot.\n",
    "shap_values = explainer.shap_values(X)\n",
    "\n",
    "# make plot.\n",
    "shap.dependence_plot('LoanAmount', shap_values[1], X, interaction_index=\"ApplicantIncome\")"
   ]
  },
  {
   "cell_type": "code",
   "execution_count": null,
   "metadata": {},
   "outputs": [],
   "source": []
  }
 ],
 "metadata": {
  "kernelspec": {
   "display_name": "Python 3 (ipykernel)",
   "language": "python",
   "name": "python3"
  },
  "language_info": {
   "codemirror_mode": {
    "name": "ipython",
    "version": 3
   },
   "file_extension": ".py",
   "mimetype": "text/x-python",
   "name": "python",
   "nbconvert_exporter": "python",
   "pygments_lexer": "ipython3",
   "version": "3.10.4"
  }
 },
 "nbformat": 4,
 "nbformat_minor": 4
}
